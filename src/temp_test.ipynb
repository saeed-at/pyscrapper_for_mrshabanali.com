{
 "cells": [
  {
   "cell_type": "markdown",
   "id": "57eb0c33-941f-4a1f-8456-95fd6da56c31",
   "metadata": {
    "tags": []
   },
   "source": [
    "## import modules"
   ]
  },
  {
   "cell_type": "code",
   "execution_count": 235,
   "id": "76b8e307-ddbb-4eeb-8ccd-52b93b257f58",
   "metadata": {},
   "outputs": [],
   "source": [
    "import requests as req\n",
    "import re\n",
    "from bs4 import BeautifulSoup"
   ]
  },
  {
   "cell_type": "markdown",
   "id": "9a108042-ab5b-489b-8a9d-9e790e7120c8",
   "metadata": {},
   "source": [
    "## read url with request"
   ]
  },
  {
   "cell_type": "code",
   "execution_count": 142,
   "id": "852295e8-7172-499f-9165-1965ab188e4a",
   "metadata": {},
   "outputs": [],
   "source": [
    "url = 'https://mrshabanali.com/'"
   ]
  },
  {
   "cell_type": "code",
   "execution_count": 186,
   "id": "f021d53c-9eec-4df7-b33d-8613f859878e",
   "metadata": {},
   "outputs": [],
   "source": [
    "page = req.get(url).text"
   ]
  },
  {
   "cell_type": "markdown",
   "id": "4d13e3c2-38c7-4bbd-8ad0-d9276b9bdbdb",
   "metadata": {},
   "source": [
    "## visualize page data with beautiful soup"
   ]
  },
  {
   "cell_type": "code",
   "execution_count": 237,
   "id": "5631eb76-af28-4ec3-a470-2440fa349e00",
   "metadata": {},
   "outputs": [],
   "source": [
    "soup = BeautifulSoup(page, \"html.parser\")"
   ]
  },
  {
   "cell_type": "code",
   "execution_count": 238,
   "id": "0a10e305-df28-4f78-a505-07945444511c",
   "metadata": {},
   "outputs": [
    {
     "name": "stdout",
     "output_type": "stream",
     "text": [
      "<title>روزنوشته‌های محمدرضا شعبانعلی - روزنوشته های محمدرضا شعبانعلی درباره‌ی روزمرگی‌ها، مسائل اجتماعی، فرهنگ، مدیریت و توسعه فردی</title>\n"
     ]
    }
   ],
   "source": [
    "print(soup.title)"
   ]
  },
  {
   "cell_type": "code",
   "execution_count": 239,
   "id": "715d7dde-c22f-4c8e-98b0-f0a4bd491cba",
   "metadata": {},
   "outputs": [],
   "source": [
    "# print(soup.prettify())"
   ]
  },
  {
   "cell_type": "markdown",
   "id": "345203ef-9cad-4bd3-93ec-009ebc15ddd6",
   "metadata": {},
   "source": [
    "## export posts_list according to the posts_list class and make a list of each post metadata"
   ]
  },
  {
   "cell_type": "code",
   "execution_count": 242,
   "id": "20300657-188c-4908-bf5e-76bfc22d07eb",
   "metadata": {},
   "outputs": [],
   "source": [
    "post_classes = soup.find(\"div\", class_=\"posts-list\")"
   ]
  },
  {
   "cell_type": "code",
   "execution_count": 243,
   "id": "900b3909-9db0-4797-954b-840bde5076f2",
   "metadata": {},
   "outputs": [],
   "source": [
    "posts = post_classes.findAll('div', id=re.compile('^post-'))"
   ]
  },
  {
   "cell_type": "markdown",
   "id": "b67d2edf-5b35-48f9-a323-8cd71e18f5d9",
   "metadata": {},
   "source": [
    "## remporary test"
   ]
  },
  {
   "cell_type": "code",
   "execution_count": 266,
   "id": "d45fa482-3e03-4adb-b62b-9d3cb2a0ec23",
   "metadata": {},
   "outputs": [],
   "source": [
    "tmp = posts[0]"
   ]
  },
  {
   "cell_type": "code",
   "execution_count": 267,
   "id": "84195f41-ab4d-41a4-9561-ff1177ed98cb",
   "metadata": {},
   "outputs": [
    {
     "data": {
      "text/plain": [
       "bs4.element.Tag"
      ]
     },
     "execution_count": 267,
     "metadata": {},
     "output_type": "execute_result"
    }
   ],
   "source": [
    "type(tmp)"
   ]
  },
  {
   "cell_type": "code",
   "execution_count": 316,
   "id": "ffd1421f-8e87-4e68-93e9-301de2a16ce5",
   "metadata": {},
   "outputs": [
    {
     "data": {
      "text/plain": [
       "<div class=\"post-58690 post type-post status-publish format-standard has-post-thumbnail hentry category-1\" id=\"post-58690\">\n",
       "<h2><a href=\"https://mrshabanali.com/%d9%81%d9%87%d8%b1%d8%b3%d8%aa-%d9%86%d8%a7%d9%85%d9%87%d8%a7/\" title=\"فهرست اسامی و توضیحات و اشارات در گفتگو با دوستان متممی\">فهرست اسامی و توضیحات و اشارات در گفتگو با دوستان متممی</a></h2>\n",
       "<div class=\"post-meta\"> <span class=\"info\"> <span><i aria-hidden=\"true\" class=\"fa fa-history\" style=\"color:#cacaca; font-weight:400;\"></i> ۴ اسفند, ۱۴۰۰ </span> <span class=\"category\"><a href=\"https://mrshabanali.com/category/%d8%af%d8%b3%d8%aa%d9%87%e2%80%8c%d8%a8%d9%86%d8%af%db%8c%e2%80%8c%d9%86%d8%b4%d8%af%d9%87/\" rel=\"category tag\">عمومی</a></span> <span class=\"comments\"><a href=\"https://mrshabanali.com/%d9%81%d9%87%d8%b1%d8%b3%d8%aa-%d9%86%d8%a7%d9%85%d9%87%d8%a7/#comments\">یک دیدگاه</a></span> </span></div><div class=\"entry\"> <a href=\"https://mrshabanali.com/%d9%81%d9%87%d8%b1%d8%b3%d8%aa-%d9%86%d8%a7%d9%85%d9%87%d8%a7/\" title=\"فهرست اسامی و توضیحات و اشارات در گفتگو با دوستان متممی\"> <img alt=\"\" class=\"featured_images wp-post-image\" height=\"200\" sizes=\"(max-width: 200px) 100vw, 200px\" src=\"https://mrshabanali.com/wp-content/uploads/2022/02/glossary.jpg\" srcset=\"https://mrshabanali.com/wp-content/uploads/2022/02/glossary.jpg 200w, https://mrshabanali.com/wp-content/uploads/2022/02/glossary-150x150.jpg 150w, https://mrshabanali.com/wp-content/uploads/2022/02/glossary-144x144.jpg 144w\" width=\"200\"/> </a> <p>در گفتگوی شش ساعته‌ای که با دوستان متممی داشتم نام‌ها و اشاره‌های بسیاری مطرح شد که طبیعتاً به علت محدودیت زمان، فرصت توضیح بیشتر در مورد آن‌ها نبود. ضمن این‌که گاهی تشخیص نام‌ها صرفاً با تکیه بر شنیدن امکان‌پذیر نبود و ممکن است دوستانی که قصد بررسی بیشتر داشته باشند، نتوانند موضوعات مطرح شده را پیگیری کنند. به همین علت، تصمیم گرفتم در قالب یک مطلب مستقل، تعدادی از نام‌ها و اشاره‌ها را فهرست کنم و در مواردی که حس کردم حرف بیشتری برای گفتن وجود دارد، مختصر توضیحی هم اضافه کنم. اما از آن‌جا که این کار مستلزم گوش دادن به کل گفتگو است و من هم مثل اکثر انسان‌ها از شنیدن صدا و حرف‌های خودم احساس خوبی ندارم، این کار را به تدریج انجام می‌دهم و هر روز بخشی از آن گفتگو را […]</p></div></div>"
      ]
     },
     "execution_count": 316,
     "metadata": {},
     "output_type": "execute_result"
    }
   ],
   "source": [
    "# full post data\n",
    "tmp"
   ]
  },
  {
   "cell_type": "code",
   "execution_count": 332,
   "id": "bcb54e1a-8ad0-47da-87a1-c4715e64f2d1",
   "metadata": {},
   "outputs": [
    {
     "name": "stdout",
     "output_type": "stream",
     "text": [
      "<div class=\"post-meta\"> <span class=\"info\"> <span><i aria-hidden=\"true\" class=\"fa fa-history\" style=\"color:#cacaca; font-weight:400;\"></i> ۴ اسفند, ۱۴۰۰ </span> <span class=\"category\"><a href=\"https://mrshabanali.com/category/%d8%af%d8%b3%d8%aa%d9%87%e2%80%8c%d8%a8%d9%86%d8%af%db%8c%e2%80%8c%d9%86%d8%b4%d8%af%d9%87/\" rel=\"category tag\">عمومی</a></span> <span class=\"comments\"><a href=\"https://mrshabanali.com/%d9%81%d9%87%d8%b1%d8%b3%d8%aa-%d9%86%d8%a7%d9%85%d9%87%d8%a7/#comments\">یک دیدگاه</a></span> </span></div>\n"
     ]
    }
   ],
   "source": [
    "#post's metadata\n",
    "metadata = tmp.find(class_=\"post-meta\")\n",
    "print(metadata)"
   ]
  },
  {
   "cell_type": "code",
   "execution_count": 333,
   "id": "12d9e344-539b-49a4-ab80-53707a224ca7",
   "metadata": {},
   "outputs": [
    {
     "name": "stdout",
     "output_type": "stream",
     "text": [
      " ۴ اسفند, ۱۴۰۰ \n"
     ]
    }
   ],
   "source": [
    "#date\n",
    "date = metadata.find(\"span\").span.text\n",
    "print(date)"
   ]
  },
  {
   "cell_type": "code",
   "execution_count": 351,
   "id": "f59a6e9d-7d46-4000-b002-944f5c77deae",
   "metadata": {},
   "outputs": [
    {
     "name": "stdout",
     "output_type": "stream",
     "text": [
      "فهرست اسامی و توضیحات و اشارات در گفتگو با دوستان متممی\n"
     ]
    }
   ],
   "source": [
    "#title\n",
    "title = tmp.h2.a.text\n",
    "print(title)"
   ]
  },
  {
   "cell_type": "code",
   "execution_count": 390,
   "id": "60625096-7b7b-488b-85ca-2521ba11c23e",
   "metadata": {},
   "outputs": [
    {
     "name": "stdout",
     "output_type": "stream",
     "text": [
      "https://mrshabanali.com/%d9%81%d9%87%d8%b1%d8%b3%d8%aa-%d9%86%d8%a7%d9%85%d9%87%d8%a7/\n"
     ]
    }
   ],
   "source": [
    "#link\n",
    "link = tmp.find('a').get('href')\n",
    "print(link)"
   ]
  },
  {
   "cell_type": "code",
   "execution_count": null,
   "id": "a409c258-22c0-4f38-8171-c72e88c4fc3f",
   "metadata": {},
   "outputs": [],
   "source": []
  }
 ],
 "metadata": {
  "kernelspec": {
   "display_name": "Python 3 (ipykernel)",
   "language": "python",
   "name": "python3"
  },
  "language_info": {
   "codemirror_mode": {
    "name": "ipython",
    "version": 3
   },
   "file_extension": ".py",
   "mimetype": "text/x-python",
   "name": "python",
   "nbconvert_exporter": "python",
   "pygments_lexer": "ipython3",
   "version": "3.9.7"
  }
 },
 "nbformat": 4,
 "nbformat_minor": 5
}
