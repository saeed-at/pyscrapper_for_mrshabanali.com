{
 "cells": [
  {
   "cell_type": "markdown",
   "id": "57eb0c33-941f-4a1f-8456-95fd6da56c31",
   "metadata": {
    "tags": []
   },
   "source": [
    "## import modules"
   ]
  },
  {
   "cell_type": "code",
   "execution_count": 13,
   "id": "76b8e307-ddbb-4eeb-8ccd-52b93b257f58",
   "metadata": {},
   "outputs": [],
   "source": [
    "import requests as req\n",
    "import re\n",
    "from bs4 import BeautifulSoup"
   ]
  },
  {
   "cell_type": "markdown",
   "id": "9a108042-ab5b-489b-8a9d-9e790e7120c8",
   "metadata": {
    "tags": []
   },
   "source": [
    "## read url with request"
   ]
  },
  {
   "cell_type": "code",
   "execution_count": 14,
   "id": "852295e8-7172-499f-9165-1965ab188e4a",
   "metadata": {},
   "outputs": [],
   "source": [
    "url = 'https://mrshabanali.com/'"
   ]
  },
  {
   "cell_type": "code",
   "execution_count": 15,
   "id": "f021d53c-9eec-4df7-b33d-8613f859878e",
   "metadata": {},
   "outputs": [],
   "source": [
    "page = req.get(url).text"
   ]
  },
  {
   "cell_type": "markdown",
   "id": "4d13e3c2-38c7-4bbd-8ad0-d9276b9bdbdb",
   "metadata": {
    "tags": []
   },
   "source": [
    "## visualize page data with beautiful soup"
   ]
  },
  {
   "cell_type": "code",
   "execution_count": 16,
   "id": "5631eb76-af28-4ec3-a470-2440fa349e00",
   "metadata": {},
   "outputs": [],
   "source": [
    "soup = BeautifulSoup(page, \"html.parser\")"
   ]
  },
  {
   "cell_type": "code",
   "execution_count": 17,
   "id": "0a10e305-df28-4f78-a505-07945444511c",
   "metadata": {},
   "outputs": [
    {
     "name": "stdout",
     "output_type": "stream",
     "text": [
      "<title>روزنوشته‌های محمدرضا شعبانعلی - روزنوشته های محمدرضا شعبانعلی درباره‌ی روزمرگی‌ها، مسائل اجتماعی، فرهنگ، مدیریت و توسعه فردی</title>\n"
     ]
    }
   ],
   "source": [
    "print(soup.title)"
   ]
  },
  {
   "cell_type": "code",
   "execution_count": 18,
   "id": "715d7dde-c22f-4c8e-98b0-f0a4bd491cba",
   "metadata": {},
   "outputs": [],
   "source": [
    "# print(soup.prettify())"
   ]
  },
  {
   "cell_type": "markdown",
   "id": "345203ef-9cad-4bd3-93ec-009ebc15ddd6",
   "metadata": {
    "tags": []
   },
   "source": [
    "## export posts_list according to the posts_list class and make a list of each post metadata"
   ]
  },
  {
   "cell_type": "code",
   "execution_count": 19,
   "id": "20300657-188c-4908-bf5e-76bfc22d07eb",
   "metadata": {},
   "outputs": [],
   "source": [
    "post_classes = soup.find(\"div\", class_=\"posts-list\")"
   ]
  },
  {
   "cell_type": "code",
   "execution_count": 20,
   "id": "900b3909-9db0-4797-954b-840bde5076f2",
   "metadata": {},
   "outputs": [],
   "source": [
    "posts = post_classes.findAll('div', id=re.compile('^post-'))"
   ]
  },
  {
   "cell_type": "markdown",
   "id": "b67d2edf-5b35-48f9-a323-8cd71e18f5d9",
   "metadata": {
    "tags": []
   },
   "source": [
    "## gives post's link , date, title in page 1 and store them in data dictionary"
   ]
  },
  {
   "cell_type": "code",
   "execution_count": 21,
   "id": "d45fa482-3e03-4adb-b62b-9d3cb2a0ec23",
   "metadata": {},
   "outputs": [],
   "source": [
    "tmp = posts[0]"
   ]
  },
  {
   "cell_type": "code",
   "execution_count": 22,
   "id": "84195f41-ab4d-41a4-9561-ff1177ed98cb",
   "metadata": {},
   "outputs": [
    {
     "data": {
      "text/plain": [
       "bs4.element.Tag"
      ]
     },
     "execution_count": 22,
     "metadata": {},
     "output_type": "execute_result"
    }
   ],
   "source": [
    "type(tmp)"
   ]
  },
  {
   "cell_type": "code",
   "execution_count": 23,
   "id": "ffd1421f-8e87-4e68-93e9-301de2a16ce5",
   "metadata": {},
   "outputs": [
    {
     "data": {
      "text/plain": [
       "<div class=\"post-58807 post type-post status-publish format-standard has-post-thumbnail hentry category-1305 tag-1357\" id=\"post-58807\">\n",
       "<h2><a href=\"https://mrshabanali.com/%d8%aa%d9%82%d9%84%db%8c%d8%af-%d8%aa%d9%81%d9%88%db%8c%d8%b6/\" title=\"برای محمود جاوید | دربارهٔ تقلید، تفویض، ابلاغ و اجتهاد\">برای محمود جاوید | دربارهٔ تقلید، تفویض، ابلاغ و اجتهاد</a></h2>\n",
       "<div class=\"post-meta\"> <span class=\"info\"> <span><i aria-hidden=\"true\" class=\"fa fa-history\" style=\"color:#cacaca; font-weight:400;\"></i> ۱۱ اسفند, ۱۴۰۰ </span> <span class=\"category\"><a href=\"https://mrshabanali.com/category/%da%af%d9%81%d8%aa%da%af%d9%88-%d8%a8%d8%a7-%d8%af%d9%88%d8%b3%d8%aa%d8%a7%d9%86/\" rel=\"category tag\">گفتگو با دوستان</a></span> <span class=\"comments\"><a href=\"https://mrshabanali.com/%d8%aa%d9%82%d9%84%db%8c%d8%af-%d8%aa%d9%81%d9%88%db%8c%d8%b6/#respond\">بدون دیدگاه</a></span> </span></div><div class=\"entry\"> <a href=\"https://mrshabanali.com/%d8%aa%d9%82%d9%84%db%8c%d8%af-%d8%aa%d9%81%d9%88%db%8c%d8%b6/\" title=\"برای محمود جاوید | دربارهٔ تقلید، تفویض، ابلاغ و اجتهاد\"> <img alt=\"\" class=\"featured_images wp-post-image\" height=\"200\" sizes=\"(max-width: 200px) 100vw, 200px\" src=\"https://mrshabanali.com/wp-content/uploads/2022/03/delegation.jpg\" srcset=\"https://mrshabanali.com/wp-content/uploads/2022/03/delegation.jpg 200w, https://mrshabanali.com/wp-content/uploads/2022/03/delegation-150x150.jpg 150w, https://mrshabanali.com/wp-content/uploads/2022/03/delegation-144x144.jpg 144w\" width=\"200\"/> </a> <p>محمود جاوید عزیز در زیر گفتگوی ویدئویی من با بچه‌های متمم مطلبی را در قالب کامنت نوشته بود که دوست داشتم چند نکته‌ای را که هنگام خواندن آن کامنت برایم تداعی شد، در قالب پاسخ بنویسم. اما در نهایت با خودم گفتم شاید نوشتن آن‌ها در قالب یک مطلب مستقل مناسب‌تر باشد. بخش‌هایی از کامنت محمود جاوید را در این‌جا می‌آورم: … در قسمت اول گفت‌و‌گو رمز کسب اعتماد مدیرت را «تابع بودن و اجتهاد نکردن» بیان کردی؛ مشکلی که تا جهان بوده رهبران، مدیران و والدین دموکرات با مجموعهٔ همراه خود داشته‌اند. از نمونه‌های مشهور آن هم دوران حکومت علی است که از چالش‌های جدی حکمرانی او اجتهادهای همیشگی یارانش بود. یکی از دغدغه‌های فکری که اغلب همراه من بوده، همین است که کجای کارم  اشکال دارد که نمی‌توانم یاران و همراهان را به […]</p></div></div>"
      ]
     },
     "execution_count": 23,
     "metadata": {},
     "output_type": "execute_result"
    }
   ],
   "source": [
    "# full post data\n",
    "tmp"
   ]
  },
  {
   "cell_type": "code",
   "execution_count": 24,
   "id": "bcb54e1a-8ad0-47da-87a1-c4715e64f2d1",
   "metadata": {},
   "outputs": [
    {
     "name": "stdout",
     "output_type": "stream",
     "text": [
      "<div class=\"post-meta\"> <span class=\"info\"> <span><i aria-hidden=\"true\" class=\"fa fa-history\" style=\"color:#cacaca; font-weight:400;\"></i> ۱۱ اسفند, ۱۴۰۰ </span> <span class=\"category\"><a href=\"https://mrshabanali.com/category/%da%af%d9%81%d8%aa%da%af%d9%88-%d8%a8%d8%a7-%d8%af%d9%88%d8%b3%d8%aa%d8%a7%d9%86/\" rel=\"category tag\">گفتگو با دوستان</a></span> <span class=\"comments\"><a href=\"https://mrshabanali.com/%d8%aa%d9%82%d9%84%db%8c%d8%af-%d8%aa%d9%81%d9%88%db%8c%d8%b6/#respond\">بدون دیدگاه</a></span> </span></div>\n"
     ]
    }
   ],
   "source": [
    "#post's metadata\n",
    "metadata = tmp.find(class_=\"post-meta\")\n",
    "print(metadata)"
   ]
  },
  {
   "cell_type": "code",
   "execution_count": 25,
   "id": "12d9e344-539b-49a4-ab80-53707a224ca7",
   "metadata": {},
   "outputs": [
    {
     "name": "stdout",
     "output_type": "stream",
     "text": [
      " ۱۱ اسفند, ۱۴۰۰ \n"
     ]
    }
   ],
   "source": [
    "#date\n",
    "date = metadata.find(\"span\").span.text\n",
    "print(date)"
   ]
  },
  {
   "cell_type": "code",
   "execution_count": 26,
   "id": "f59a6e9d-7d46-4000-b002-944f5c77deae",
   "metadata": {},
   "outputs": [
    {
     "data": {
      "text/plain": [
       "'برای محمود جاوید | دربارهٔ تقلید، تفویض، ابلاغ و اجتهاد'"
      ]
     },
     "execution_count": 26,
     "metadata": {},
     "output_type": "execute_result"
    }
   ],
   "source": [
    "#title\n",
    "title = tmp.h2.a.text\n",
    "title"
   ]
  },
  {
   "cell_type": "code",
   "execution_count": 27,
   "id": "60625096-7b7b-488b-85ca-2521ba11c23e",
   "metadata": {},
   "outputs": [
    {
     "name": "stdout",
     "output_type": "stream",
     "text": [
      "https://mrshabanali.com/%d8%aa%d9%82%d9%84%db%8c%d8%af-%d8%aa%d9%81%d9%88%db%8c%d8%b6/\n"
     ]
    }
   ],
   "source": [
    "#link\n",
    "link = tmp.find('a').get('href')\n",
    "print(link)"
   ]
  },
  {
   "cell_type": "code",
   "execution_count": 28,
   "id": "a409c258-22c0-4f38-8171-c72e88c4fc3f",
   "metadata": {},
   "outputs": [],
   "source": [
    "a = (title, date, link)"
   ]
  },
  {
   "cell_type": "code",
   "execution_count": null,
   "id": "9143166b-995c-4686-90a8-a60b67e340fc",
   "metadata": {},
   "outputs": [],
   "source": []
  },
  {
   "cell_type": "code",
   "execution_count": 29,
   "id": "128405fb-5cf8-4f55-a974-26c17243e92a",
   "metadata": {},
   "outputs": [
    {
     "data": {
      "text/plain": [
       "'برای محمود جاوید | دربارهٔ تقلید، تفویض، ابلاغ و اجتهاد'"
      ]
     },
     "execution_count": 29,
     "metadata": {},
     "output_type": "execute_result"
    }
   ],
   "source": [
    "title"
   ]
  },
  {
   "cell_type": "code",
   "execution_count": 30,
   "id": "7fe5a0ba-fc66-49a5-b22a-f15dcff6597d",
   "metadata": {},
   "outputs": [],
   "source": [
    "data = {}\n",
    "i=1\n",
    "for link_data in posts:\n",
    "    metadata = link_data.find(class_=\"post-meta\")\n",
    "    title = link_data.h2.a.text\n",
    "    date = metadata.find(\"span\").span.text\n",
    "    link = link_data.find('a').get('href')\n",
    "    data[i] = {'title':title, 'date':date, 'link':link}\n",
    "    i+=1"
   ]
  },
  {
   "cell_type": "code",
   "execution_count": 31,
   "id": "b7a79ca9-5646-430b-a606-0ebd029b17b1",
   "metadata": {},
   "outputs": [
    {
     "data": {
      "text/plain": [
       "{1: {'title': 'برای محمود جاوید | دربارهٔ تقلید، تفویض، ابلاغ و اجتهاد',\n",
       "  'date': '\\xa0۱۱ اسفند, ۱۴۰۰\\xa0',\n",
       "  'link': 'https://mrshabanali.com/%d8%aa%d9%82%d9%84%db%8c%d8%af-%d8%aa%d9%81%d9%88%db%8c%d8%b6/'},\n",
       " 2: {'title': 'فهرست اسامی و توضیحات و اشارات در گفتگو با دوستان متممی',\n",
       "  'date': '\\xa0۴ اسفند, ۱۴۰۰\\xa0',\n",
       "  'link': 'https://mrshabanali.com/%d9%81%d9%87%d8%b1%d8%b3%d8%aa-%d9%86%d8%a7%d9%85%d9%87%d8%a7/'},\n",
       " 3: {'title': 'پیام\\u200cها و پیامک\\u200cها | پنجمین نمونه',\n",
       "  'date': '\\xa0۲۱ بهمن, ۱۴۰۰\\xa0',\n",
       "  'link': 'https://mrshabanali.com/%d9%be%db%8c%d8%a7%d9%85-%d9%be%db%8c%d8%a7%d9%85%da%a9-%d9%be%d9%86%d8%ac/'},\n",
       " 4: {'title': 'چرا در گفتگو با محمدرضا شعبانعلی هیچ خانمی نبود؟',\n",
       "  'date': '\\xa0۱۳ بهمن, ۱۴۰۰\\xa0',\n",
       "  'link': 'https://mrshabanali.com/women-in-interview/'},\n",
       " 5: {'title': 'دانلود فایل ویدئویی | گفتگوی من (محمدرضا شعبانعلی) و دوستان',\n",
       "  'date': '\\xa0۲ بهمن, ۱۴۰۰\\xa0',\n",
       "  'link': 'https://mrshabanali.com/interview/'},\n",
       " 6: {'title': 'اطلاع رسانی یک پادکست | من (محمدرضا شعبانعلی) و بچه\\u200cها',\n",
       "  'date': '\\xa0۳۰ دی, ۱۴۰۰\\xa0',\n",
       "  'link': 'https://mrshabanali.com/%d9%be%d8%a7%d8%af%da%a9%d8%b3%d8%aa-%d8%b4%d8%b9%d8%a8%d8%a7%d9%86%d8%b9%d9%84%db%8c/'},\n",
       " 7: {'title': 'مقدمه\\u200cای بر مقدمهٔ کتاب چرا ملتها شکست می\\u200cخورند؟',\n",
       "  'date': '\\xa0۱۶ دی, ۱۴۰۰\\xa0',\n",
       "  'link': 'https://mrshabanali.com/%da%a9%d8%aa%d8%a7%d8%a8-%da%86%d8%b1%d8%a7-%d9%85%d9%84%d8%aa%d9%87%d8%a7-%d8%b4%da%a9%d8%b3%d8%aa-%d9%85%db%8c%d8%ae%d9%88%d8%b1%d9%86%d8%af/'},\n",
       " 8: {'title': 'پیام\\u200cها و پیامک\\u200cها | چهارمین نمونه',\n",
       "  'date': '\\xa0۱۰ دی, ۱۴۰۰\\xa0',\n",
       "  'link': 'https://mrshabanali.com/%d9%be%db%8c%d8%a7%d9%85-%d9%be%db%8c%d8%a7%d9%85%da%a9-%da%86%d9%87%d8%a7%d8%b1/'},\n",
       " 9: {'title': 'لحظه نگار | چند عکس پراکنده',\n",
       "  'date': '\\xa0۱۹ آذر, ۱۴۰۰\\xa0',\n",
       "  'link': 'https://mrshabanali.com/%d9%84%d8%ad%d8%b8%d9%87-%d9%86%da%af%d8%a7%d8%b1-%da%86%d9%86%d8%af-%d8%b9%da%a9%d8%b3-%d9%be%d8%b1%d8%a7%da%a9%d9%86%d8%af%d9%87/'},\n",
       " 10: {'title': 'دربارهٔ دوستانی که بعضی از رفتارهایشان را نمی\\u200cپسندیم',\n",
       "  'date': '\\xa0۶ آذر, ۱۴۰۰\\xa0',\n",
       "  'link': 'https://mrshabanali.com/%d9%85%d8%af%db%8c%d8%b1%db%8c%d8%aa-%d8%aa%d8%b9%d8%a7%d8%b1%d8%b6-%d8%af%d9%88%d8%b3%d8%aa%d8%a7%d9%86/'}}"
      ]
     },
     "execution_count": 31,
     "metadata": {},
     "output_type": "execute_result"
    }
   ],
   "source": [
    "data"
   ]
  },
  {
   "cell_type": "markdown",
   "id": "21fde8ba-664d-4a09-ae67-0a925f335d27",
   "metadata": {},
   "source": [
    "## scrap one post"
   ]
  },
  {
   "cell_type": "code",
   "execution_count": 227,
   "id": "be8958fc-cc49-473b-90d1-2396cc78dd55",
   "metadata": {},
   "outputs": [
    {
     "data": {
      "text/plain": [
       "{'title': 'برای محمود جاوید | دربارهٔ تقلید، تفویض، ابلاغ و اجتهاد',\n",
       " 'date': '\\xa0۱۱ اسفند, ۱۴۰۰\\xa0',\n",
       " 'link': 'https://mrshabanali.com/%d8%aa%d9%82%d9%84%db%8c%d8%af-%d8%aa%d9%81%d9%88%db%8c%d8%b6/'}"
      ]
     },
     "execution_count": 227,
     "metadata": {},
     "output_type": "execute_result"
    }
   ],
   "source": [
    "d =data[1]\n",
    "d"
   ]
  },
  {
   "cell_type": "code",
   "execution_count": 236,
   "id": "dcc833d2-0c21-4c89-80ea-3275a29b8fed",
   "metadata": {},
   "outputs": [],
   "source": [
    "url1 = \"https://mrshabanali.com/%d8%aa%d9%82%d9%84%db%8c%d8%af-%d8%aa%d9%81%d9%88%db%8c%d8%b6/\""
   ]
  },
  {
   "cell_type": "code",
   "execution_count": 237,
   "id": "22a7b86b-d369-40c4-8f2b-6f8df09393b4",
   "metadata": {},
   "outputs": [
    {
     "data": {
      "text/plain": [
       "'https://mrshabanali.com/%d8%aa%d9%82%d9%84%db%8c%d8%af-%d8%aa%d9%81%d9%88%db%8c%d8%b6/'"
      ]
     },
     "execution_count": 237,
     "metadata": {},
     "output_type": "execute_result"
    }
   ],
   "source": [
    "url1"
   ]
  },
  {
   "cell_type": "code",
   "execution_count": 238,
   "id": "dc140466-8cb4-4f70-b8ba-6821207bdc14",
   "metadata": {},
   "outputs": [],
   "source": [
    "page1 = req.get(url1).text"
   ]
  },
  {
   "cell_type": "code",
   "execution_count": 239,
   "id": "70d96562-7877-4d57-a0ce-d43015cc3492",
   "metadata": {},
   "outputs": [],
   "source": [
    "soup1 = BeautifulSoup(page1, \"html.parser\")"
   ]
  },
  {
   "cell_type": "code",
   "execution_count": 240,
   "id": "60cacfda-8ead-4a72-90ae-e5712afcdbdf",
   "metadata": {},
   "outputs": [],
   "source": [
    "wrapper = soup1.find(\"div\",id=\"wrapper\")"
   ]
  },
  {
   "cell_type": "code",
   "execution_count": 241,
   "id": "7d3b2e19-7041-4768-824d-69878d5ab1a8",
   "metadata": {},
   "outputs": [],
   "source": [
    "# print(wrapper.prettify())"
   ]
  },
  {
   "cell_type": "code",
   "execution_count": 242,
   "id": "d2f1910d-353e-4d24-b849-bdf6da1d1d42",
   "metadata": {},
   "outputs": [],
   "source": [
    "content = wrapper.find(\"div\", id=\"content\")"
   ]
  },
  {
   "cell_type": "code",
   "execution_count": 243,
   "id": "c442090b-e3fb-42db-9421-9feda825aa30",
   "metadata": {},
   "outputs": [
    {
     "name": "stdout",
     "output_type": "stream",
     "text": [
      "<div id=\"content\">\n",
      " <div class=\"post-58807 post type-post status-publish format-standard has-post-thumbnail hentry category-1305 tag-1357\" id=\"post-58807\">\n",
      "  <h2>\n",
      "   برای محمود جاوید | دربارهٔ تقلید، تفویض، ابلاغ و اجتهاد\n",
      "  </h2>\n",
      "  <div class=\"post-meta\">\n",
      "   <span class=\"info\">\n",
      "    <span>\n",
      "     <i aria-hidden=\"true\" class=\"fa fa-history\" style=\"color:#cacaca; font-weight:400;\">\n",
      "     </i>\n",
      "     ۱۱ اسفند, ۱۴۰۰\n",
      "    </span>\n",
      "    <span class=\"category\">\n",
      "     <a href=\"https://mrshabanali.com/category/%da%af%d9%81%d8%aa%da%af%d9%88-%d8%a8%d8%a7-%d8%af%d9%88%d8%b3%d8%aa%d8%a7%d9%86/\" rel=\"category tag\">\n",
      "      گفتگو با دوستان\n",
      "     </a>\n",
      "    </span>\n",
      "    <span class=\"comments\">\n",
      "     <a href=\"https://mrshabanali.com/%d8%aa%d9%82%d9%84%db%8c%d8%af-%d8%aa%d9%81%d9%88%db%8c%d8%b6/#respond\">\n",
      "      بدون دیدگاه\n",
      "     </a>\n",
      "    </span>\n",
      "   </span>\n",
      "  </div>\n",
      "  <div class=\"entry\">\n",
      "   <div class=\"tell\">\n",
      "   </div>\n",
      "   <p style=\"text-align: justify;\">\n",
      "    <a href=\"https://motamem.org/profile/211848/\">\n",
      "     محمود جاوید\n",
      "    </a>\n",
      "    عزیز در زیر\n",
      "    <a href=\"https://mrshabanali.com/interview/\">\n",
      "     گفتگوی ویدئویی من با بچه‌های متمم\n",
      "    </a>\n",
      "    مطلبی را\n",
      "    <a href=\"https://mrshabanali.com/interview/#comment-79635\">\n",
      "     در قالب کامنت\n",
      "    </a>\n",
      "    نوشته بود که دوست داشتم چند نکته‌ای را که هنگام خواندن آن کامنت برایم تداعی شد، در قالب پاسخ بنویسم. اما در نهایت با خودم گفتم شاید نوشتن آن‌ها در قالب یک مطلب مستقل مناسب‌تر باشد.\n",
      "   </p>\n",
      "   <p>\n",
      "    بخش‌هایی از کامنت محمود جاوید را در این‌جا می‌آورم:\n",
      "   </p>\n",
      "   <p style=\"text-align: justify;\">\n",
      "    <span style=\"color: #0000ff;\">\n",
      "     … در قسمت اول گفت‌و‌گو رمز کسب اعتماد مدیرت را «تابع بودن و اجتهاد نکردن» بیان کردی؛ مشکلی که تا جهان بوده رهبران، مدیران و والدین دموکرات با مجموعهٔ همراه خود داشته‌اند. از نمونه‌های مشهور آن هم دوران حکومت علی است که از چالش‌های جدی حکمرانی او اجتهادهای همیشگی یارانش بود.\n",
      "    </span>\n",
      "   </p>\n",
      "   <p style=\"text-align: justify;\">\n",
      "    <span style=\"color: #0000ff;\">\n",
      "     یکی از دغدغه‌های فکری که اغلب همراه من بوده، همین است که کجای کارم  اشکال دارد که نمی‌توانم یاران و همراهان را به انجام عین آنچه که می‌گویم راضی کنم. هر بار وقت رفتن، باید در راه ماند و اطرافیان را قانع کرد که نبایستی اجتهاد کنند.\n",
      "    </span>\n",
      "   </p>\n",
      "   <p style=\"text-align: justify;\">\n",
      "    <span style=\"color: #0000ff;\">\n",
      "     یکی از کلیدهای موفقیت مدیر تو همان‌طور که اشاره کردی این بود که همه چیز را با جزییات برای شما در قالب یک دستورالعمل می نوشت؛ کاری که من هیچوقت نمی کردم. و با بزغاله امضا می کرد؛ کاری که آن را هم نخواهم کرد…\n",
      "    </span>\n",
      "   </p>\n",
      "   <p>\n",
      "    محمود جان.\n",
      "   </p>\n",
      "   <p>\n",
      "    آن‌چه در ادامه می‌نویسم، مجموعه‌ای از توضیحات و تداعی‌هاست. توضیحات، رابطهٔ نزدیک‌تری با حرف‌های تو دارد. تداعی‌ها را هم، با وجود رابطهٔ دور، می‌نویسم که نوشته باشم و جایی مانده باشد.\n",
      "   </p>\n",
      "   <h2 style=\"text-align: justify;\">\n",
      "    <span style=\"color: #000000;\">\n",
      "     <strong>\n",
      "      ماجرای مردی که باید کشته می‌شد\n",
      "     </strong>\n",
      "    </span>\n",
      "   </h2>\n",
      "   <p style=\"text-align: justify;\">\n",
      "    بخشی از دوران کودکی را – چنان‌که پیش از این گفته‌ام – پای منبر سید مهدی طباطبایی گذرانده‌ام.\n",
      "   </p>\n",
      "   <p style=\"text-align: justify;\">\n",
      "    در همان دوران کودکی داستانی را بر منبر از او شنیدم که هنوز در خاطرم مانده است. بعدها کمی دنبال منبع داستان گشتم و نتوانستم منبع را پیدا کنم. البته چون نام افراد داستان را هم به خاطر نداشتم، طبیعی است که جستجوی اصل داستان ساده نبوده است. از رنگ و بوی داستان حدس می‌زنم که اگر صحت تاریخی داشته باشد، احتمالاً به دوران استقرار پیامبر در مدینه برمی‌گردد.\n",
      "   </p>\n",
      "   <p style=\"text-align: justify;\">\n",
      "    به هر حال، این ماجرا واقعی باشد یا غیرواقعی، و اعتبار راوی‌اش کم باشد یا زیاد، تأثیر ماندگارش در ذهن من زیاد بوده است.\n",
      "   </p>\n",
      "   <p style=\"text-align: justify;\">\n",
      "    طباطبایی داستان را چنین نقل می‌کرد که:\n",
      "   </p>\n",
      "   <p style=\"text-align: justify;\">\n",
      "    پیامبر در مورد یکی از دشمنان خود به اصحابش دستور داده بود که «هر جا او را دیدید و در هر شرایطی که بود، در لحظه او را بکشید.»\n",
      "   </p>\n",
      "   <p style=\"text-align: justify;\">\n",
      "    ظاهراً فردی که مورد خشم پیامبر قرار می‌گیرد، با اطمینان از جدی بودن تهدید و دستور پیامبر، از شهر می‌گریزد؛ چنان سریع و شتابزده، که تقریباً تمام زندگی‌اش در شهر می‌ماند و چیز چندانی با خود نمی‌برد.\n",
      "   </p>\n",
      "   <p style=\"text-align: justify;\">\n",
      "    مدتی می‌گذرد و آن فرد می‌بیند که نمی‌تواند برای همیشه از زندگی و خاندان خود دور بماند و در غربت بمیرد. به همین علت، تصمیم می‌گیرد به شهر بازگردد و از پیامبر طلب عفو و بخشش کند. زمانی که به شهر می‌رسد، پیامبر در مسجد بوده و نمازش به پایان رسیده بوده است.\n",
      "   </p>\n",
      "   <p style=\"text-align: justify;\">\n",
      "    مرد از در مسجد وارد می‌شد و می‌بیند که پیامبر در میان اصحاب نشسته و با آن‌ها گفتگو می‌کند. لحظه‌ای سکوت برقرار می‌شود. مرد با صدای بلند می‌گوید: «آمده‌ام تقاضا کنم که مرا عفو کنید.»\n",
      "   </p>\n",
      "   <p style=\"text-align: justify;\">\n",
      "    پیامبر لحظاتی سر خود را پایین می‌اندازد و چیزی نمی‌گوید.\n",
      "   </p>\n",
      "   <p style=\"text-align: justify;\">\n",
      "    مرد دوباره تقاضای عفو خود را مطرح می‌کند و پیامبر هم رفتار قبل را تکرار می‌کند.\n",
      "   </p>\n",
      "   <p style=\"text-align: justify;\">\n",
      "    پس از سومین تقاضای عفو، پیامبر پاسخ می‌دهد: «تو بخشیده شدی. در شهر بمان و بر سر خانه و زندگی‌ات باش.»\n",
      "   </p>\n",
      "   <p style=\"text-align: justify;\">\n",
      "    وقتی مرد از مسجد خارج شد، اصحاب از پیامبر می‌پرسند که: «چرا سه بار صبر کردید؟ حکمت این کار چه بود؟ اگر قرار بود بخشیده شود، چرا در همان دفعهٔ اول او را نبخشیدید؟»\n",
      "   </p>\n",
      "   <p style=\"text-align: justify;\">\n",
      "    پیامبر – چنان‌که طباطبایی روایت می‌کرد – می‌گوید: من دستور مشخص داده بودم. به شما گفته بودم «هر جا» و «در هر شرایطی» او را دیدید بکشید. این‌جا هم اگر چه مسجد و خانهٔ خداست، اما شامل دستور من می‌شد. صبر کردم ببینم دستورم را اجرا می‌کنید یا نه. باز هم صبر کردم. و وقتی برای سومین بار تقاضای عفو کرد و شما هم دستورم را اجرا نکردید، او را بخشیدم.\n",
      "   </p>\n",
      "   <p style=\"text-align: center;\">\n",
      "    ***\n",
      "   </p>\n",
      "   <p style=\"text-align: justify;\">\n",
      "    اخلاق حکم می‌کرد در نقل داستان، حتماً به گوینده اشاره کنم. اما اگر حس می‌کنید داستان بر سبک و سیاق پیامبر و تصویری که از او در ذهن دارید نمی‌نشیند، فرض کنید نامی از گوینده نبرده‌ام و داستان، حکایتی چینی از یک فرمانده کاریزماتیک است که به این شیوه به یاران خود آموخته که «در دستوری که می‌دهم اجتهاد نکنید. کلمه به کلمهٔ آن را جدی بگیرید و به همان شکل اجرا کنید.»\n",
      "   </p>\n",
      "   <p style=\"text-align: justify;\">\n",
      "    من همیشه وقتی به «اجتهاد نکردن» فکر می‌کنم یا جایی می‌گویم و می‌نویسم که خودم در تعامل با این فرد یا آن مدیر، اجتهاد نکردم و نمی‌کنم، چنین تصویر و تصوری از مفهوم «اطاعت» در ذهن دارم.\n",
      "   </p>\n",
      "   <p style=\"text-align: justify;\">\n",
      "    اما وقتی از «اطاعت بدون اجتهاد» حرف می‌زنیم، سوال‌های بسیاری به وجود می‌آید که باید به آن‌ها پاسخ بدهیم.\n",
      "   </p>\n",
      "   <p style=\"text-align: justify;\">\n",
      "    از جمله این‌که آیا چنین روشی همیشه و همه‌جا صحیح است؟ آیا این توصیهٔ مناسبی است که امروز یک مدیر به کارمند خود بگوید یا از او انتظار داشته باشد که «تقلید مطلق» انجام دهد؟ آیا من به عنوان عضو جوان یک تیم یا کارمند جوان یک سازمان، همیشه و همه‌جا می‌توانم بر چنین توصیه‌ای تکیه کنم؟ این الگوی رفتاری در چه شرایطی می‌تواند سازنده و در چه شرایطی مخرب باشد؟\n",
      "   </p>\n",
      "   <p>\n",
      "    <span style=\"color: #ff0000;\">\n",
      "     <strong>\n",
      "      این‌ها سوالاتی است که در روزهای بعد در ادامهٔ همین مطلب درباره‌شان خواهم نوشت.\n",
      "     </strong>\n",
      "    </span>\n",
      "   </p>\n",
      "   <p>\n",
      "   </p>\n",
      "   <p>\n",
      "   </p>\n",
      "   <div class=\"wp_rp_wrap wp_rp_plain\" id=\"wp_rp_first\">\n",
      "    <div class=\"wp_rp_content\">\n",
      "     <h3 class=\"related_post_title\">\n",
      "      چند مطلب پیشنهادی:\n",
      "     </h3>\n",
      "     <ul class=\"related_post wp_rp\">\n",
      "      <li data-poid=\"in-37946\" data-position=\"0\" data-post-type=\"none\">\n",
      "       <a class=\"wp_rp_title\" href=\"https://mrshabanali.com/%d9%81%d8%b9%d8%a7%d9%84%db%8c%d8%aa%d9%87%d8%a7%db%8c-%d9%85%db%8c%d8%a7%d9%86-%d8%b1%d8%b4%d8%aa%d9%87-%d8%a7%db%8c/\">\n",
      "        درباره کارها و فعالیتهای میان رشته ای\n",
      "       </a>\n",
      "      </li>\n",
      "      <li data-poid=\"in-51350\" data-position=\"1\" data-post-type=\"none\">\n",
      "       <a class=\"wp_rp_title\" href=\"https://mrshabanali.com/%d8%b0%d9%87%d9%86%d9%85%d8%a7%d9%86-%d8%b1%d8%a7-%d9%85%d8%b1%d8%aa%d8%a8-%da%a9%d9%86%db%8c%d9%85/\">\n",
      "        گاهی باید ذهن‌مان را مرتب کنیم\n",
      "       </a>\n",
      "      </li>\n",
      "      <li data-poid=\"in-35632\" data-position=\"2\" data-post-type=\"none\">\n",
      "       <a class=\"wp_rp_title\" href=\"https://mrshabanali.com/%d9%86%d9%88%d8%ac%d9%88%db%8c%db%8c-%d9%88-%d9%86%d9%88%d8%ae%d9%88%d8%a7%d9%87%db%8c/\">\n",
      "        نوجویی و نوخواهی\n",
      "       </a>\n",
      "      </li>\n",
      "      <li data-poid=\"in-40241\" data-position=\"3\" data-post-type=\"none\">\n",
      "       <a class=\"wp_rp_title\" href=\"https://mrshabanali.com/%d9%85%d8%b9%d8%b1%d9%81%db%8c-%da%86%d9%86%d8%af-%da%a9%d8%aa%d8%a7%d8%a8-%d9%be%db%8c%da%86%db%8c%d8%af%da%af%db%8c/\">\n",
      "        معرفی چند کتاب پیچیدگی\n",
      "       </a>\n",
      "      </li>\n",
      "      <li data-poid=\"in-37006\" data-position=\"4\" data-post-type=\"none\">\n",
      "       <a class=\"wp_rp_title\" href=\"https://mrshabanali.com/%d9%85%d8%b9%db%8c%d8%a7%d8%b1%d9%87%d8%a7%db%8c-%d8%a7%d9%86%d8%aa%d8%ae%d8%a7%d8%a8-%d8%b4%d8%ba%d9%84/\">\n",
      "        معیارهای انتخاب شغل\n",
      "       </a>\n",
      "      </li>\n",
      "      <li data-poid=\"in-35303\" data-position=\"5\" data-post-type=\"none\">\n",
      "       <a class=\"wp_rp_title\" href=\"https://mrshabanali.com/%d9%85%d8%b4%d8%a7%d9%88%d8%b1%d9%87-%d9%85%d8%af%db%8c%d8%b1%db%8c%d8%aa-%da%86%d9%86%d8%af-%da%af%d8%a7%d9%85/\">\n",
      "        مشاوره مدیریت – چند گام در مسیر ارائه خدمات مشاوره\n",
      "       </a>\n",
      "      </li>\n",
      "     </ul>\n",
      "    </div>\n",
      "   </div>\n",
      "   <div class=\"wp_rp_content\">\n",
      "    <h3 class=\"related_post_title\">\n",
      "     با متمم:\n",
      "    </h3>\n",
      "    <ul class=\"related_post wp_rp\">\n",
      "     <li class=\"wp_rp_title\">\n",
      "      <a href=\"https://bamotamem.ir/dishonesty-in-translation/\">\n",
      "       فایدهٔ دغل‌کاری در ترجمه!\n",
      "      </a>\n",
      "     </li>\n",
      "     <li class=\"wp_rp_title\">\n",
      "      <a href=\"https://bamotamem.ir/army-camouflage/\">\n",
      "       پیکاسو و تکنیک استتار کامیون‌های نظامی\n",
      "      </a>\n",
      "     </li>\n",
      "     <li class=\"wp_rp_title\">\n",
      "      <a href=\"https://bamotamem.ir/victory/\">\n",
      "       نبرد بد است؛ حتی اگر پیروز شوی\n",
      "      </a>\n",
      "     </li>\n",
      "     <li class=\"wp_rp_title\">\n",
      "      <a href=\"https://bamotamem.ir/helmet-safety/\">\n",
      "       قانونی برای اجبار به استفاده «نکردن» از کلاه ایمنی\n",
      "      </a>\n",
      "     </li>\n",
      "     <li class=\"wp_rp_title\">\n",
      "      <a href=\"https://bamotamem.ir/importance-of-silence/\">\n",
      "       اهمیت سکوت را فراموش نکنیم\n",
      "      </a>\n",
      "     </li>\n",
      "     <li class=\"wp_rp_title\">\n",
      "      <a href=\"https://bamotamem.ir/textrovert/\">\n",
      "       تکسترورت |‌ آيا به واژهٔ Textrovert نیاز داریم؟\n",
      "      </a>\n",
      "     </li>\n",
      "     <li class=\"wp_rp_title\">\n",
      "      <a href=\"https://bamotamem.ir/strain-in-relationships/\">\n",
      "       یک اختلاف‌نظر دردسرساز در روابط عاطفی\n",
      "      </a>\n",
      "     </li>\n",
      "    </ul>\n",
      "   </div>\n",
      "   <div class=\"watch-action\">\n",
      "    <div class=\"watch-position align-left\">\n",
      "     <div class=\"action-like\">\n",
      "      <a class=\"lbg-style1 like-58807 jlk\" data-nonce=\"393900bd28\" data-post_id=\"58807\" data-task=\"like\" href=\"javascript:void(0)\" rel=\"nofollow\">\n",
      "       <img class=\"wti-pixel\" src=\"https://mrshabanali.com/wp-content/plugins/wti-like-post/images/pixel.gif\" title=\"Like\"/>\n",
      "       <span class=\"lc-58807 lc\">\n",
      "        +4\n",
      "       </span>\n",
      "      </a>\n",
      "     </div>\n",
      "    </div>\n",
      "    <div class=\"status-58807 status align-left\">\n",
      "    </div>\n",
      "   </div>\n",
      "   <div class=\"wti-clear\">\n",
      "   </div>\n",
      "   <div class=\"wti-clear\">\n",
      "   </div>\n",
      "   <p style=\"text-align: right;\">\n",
      "    <a class=\"medium radius otw-button\" href=\"https://motamem.org/%D9%81%D8%A7%DB%8C%D9%84%E2%80%8C%D9%87%D8%A7%DB%8C-%D8%B5%D9%88%D8%AA%DB%8C-%D8%A2%D9%85%D9%88%D8%B2%D8%B4-%D9%85%D8%B0%D8%A7%DA%A9%D8%B1%D9%87/\">\n",
      "     فایلهای صوتی مذاکره\n",
      "    </a>\n",
      "    <a class=\"medium radius otw-button\" href=\"https://motamem.org/%D9%85%D8%B9%D8%B1%D9%81%DB%8C-%DB%8C%D8%A7%D8%AF%DA%AF%DB%8C%D8%B1%DB%8C-%D8%B2%D8%A8%D8%A7%D9%86-%D8%A7%D9%86%DA%AF%D9%84%DB%8C%D8%B3%DB%8C/\">\n",
      "     آموزش زبان انگلیسی\n",
      "    </a>\n",
      "    <span style=\"font-family: tahoma;\">\n",
      "     <a class=\"medium radius otw-button\" href=\"https://motamem.org/%D8%AF%D8%B1%D8%B3-%D9%87%D8%A7%DB%8C-%D9%85%D8%B1%D8%A8%D9%88%D8%B7-%D8%A8%D9%87-%D8%A7%D8%B1%D8%AA%D8%A8%D8%A7%D8%B7%D8%A7%D8%AA-%D9%88-%D9%85%D8%B0%D8%A7%DA%A9%D8%B1%D9%87/\">\n",
      "      آموزش ارتباطات و مذاکره\n",
      "     </a>\n",
      "    </span>\n",
      "    <a class=\"medium radius otw-button\" href=\"https://motamem.org/%D8%AF%D8%B1%D8%B3-%D9%87%D8%A7%DB%8C-%D9%85%D8%B1%D8%A8%D9%88%D8%B7-%D8%AE%D9%88%D8%AF%D8%B4%D9%86%D8%A7%D8%B3%DB%8C/\">\n",
      "     خودشناسی\n",
      "    </a>\n",
      "   </p>\n",
      "   <p style=\"text-align: right;\">\n",
      "    <span style=\"font-family: tahoma;\">\n",
      "     <a class=\"medium radius otw-button\" href=\"https://motamem.org/%D8%AF%D9%88%D8%B1%D9%87-mba-%D8%A2%D9%86%D9%84%D8%A7%DB%8C%D9%86-%D8%B1%D8%B4%D8%AA%D9%87-mba-%D9%85%D8%AF%DB%8C%D8%B1%DB%8C%D8%AA/\">\n",
      "      آموزش مدیریت کسب و کار (MBA)\n",
      "     </a>\n",
      "    </span>\n",
      "    <a class=\"medium radius otw-button\" href=\"https://motamem.org/%D8%AF%D8%B1%D8%B3-%D9%87%D8%A7%DB%8C-%D9%85%D8%B1%D8%AA%D8%A8%D8%B7-%D8%A8%D8%A7-%DA%A9%D8%A7%D8%B1%D8%A2%D9%81%D8%B1%DB%8C%D9%86%DB%8C/\">\n",
      "     کارآفرینی\n",
      "    </a>\n",
      "    <a class=\"medium radius otw-button\" href=\"https://motamem.org/%D8%AF%D8%B1%D8%B3-%D9%87%D8%A7%DB%8C-%D9%85%D8%B1%D8%A8%D9%88%D8%B7-%D8%A8%D9%87-%DA%A9%D8%B3%D8%A8-%D9%88-%DA%A9%D8%A7%D8%B1-%D8%AF%DB%8C%D8%AC%DB%8C%D8%AA%D8%A7%D9%84/\">\n",
      "     کسب و کار دیجیتال\n",
      "    </a>\n",
      "   </p>\n",
      "   <p style=\"text-align: right;\">\n",
      "    <a class=\"medium radius otw-button\" href=\"https://motamem.org/%D9%88%DB%8C%DA%98%DA%AF%DB%8C%E2%80%8C%E2%80%8C%D9%87%D8%A7%DB%8C-%D8%A7%D9%86%D8%B3%D8%A7%D9%86-%D8%AA%D8%AD%D8%B5%DB%8C%D9%84%E2%80%8C%DA%A9%D8%B1%D8%AF%D9%87/\">\n",
      "     ویژگی‌های انسان تحصیل‌کرده\n",
      "    </a>\n",
      "    <a class=\"medium radius otw-button\" href=\"https://motamem.org/downloads/%D9%81%D8%A7%DB%8C%D9%84-%D8%B5%D9%88%D8%AA%DB%8C-%D8%AD%D8%B1%D9%81%D9%87%E2%80%8C%D8%A7%DB%8C-%DA%AF%D8%B1%DB%8C-%D9%85%D8%AD%DB%8C%D8%B7-%DA%A9%D8%A7%D8%B1/\">\n",
      "     آموزش حرفه‌ای‌گری در محیط کار\n",
      "    </a>\n",
      "   </p>\n",
      "  </div>\n",
      "  <div class=\"post-nav\">\n",
      "   <div class=\"previous\">\n",
      "    <a href=\"https://mrshabanali.com/%d9%81%d9%87%d8%b1%d8%b3%d8%aa-%d9%86%d8%a7%d9%85%d9%87%d8%a7/\" rel=\"prev\">\n",
      "     <span class=\"meta-nav\">\n",
      "      ←\n",
      "     </span>\n",
      "     فهرست اسامی و توضیحات و اشارات در گفتگو با دوستان متممی\n",
      "    </a>\n",
      "   </div>\n",
      "   <div class=\"next\">\n",
      "   </div>\n",
      "  </div>\n",
      "  <div class=\"box-index\" style=\"line-height: 28px;\">\n",
      "  </div>\n",
      " </div>\n",
      " ﻿\n",
      " <div id=\"comments\">\n",
      "  <div class=\"comment-respond\" id=\"respond\">\n",
      "   <h3 class=\"comment-reply-title\" id=\"reply-title\">\n",
      "    دیدگاهتان را بنویسید\n",
      "    <a href=\"/%d8%aa%d9%82%d9%84%db%8c%d8%af-%d8%aa%d9%81%d9%88%db%8c%d8%b6/#respond\" id=\"cancel-comment-reply-link\" rel=\"nofollow\" style=\"display:none;\">\n",
      "     لغو پاسخ\n",
      "    </a>\n",
      "    (مختص دوستان متممی با بیش از ۱۵۰ امتیاز)\n",
      "   </h3>\n",
      "   <div class=\"entry\" style=\"text-align:right\">\n",
      "    <b>\n",
      "     <a href=\"https://motamem.org/%DA%A9%D8%AF-%DA%A9%D8%A7%D9%85%D9%86%D8%AA-%DA%AF%D8%B0%D8%A7%D8%B1%DB%8C-%D8%AF%D8%B1-%D8%B1%D9%88%D8%B2%D9%86%D9%88%D8%B4%D8%AA%D9%87%E2%80%8C%D9%87%D8%A7/\">\n",
      "      لینک دریافت کد فعال\n",
      "     </a>\n",
      "    </b>\n",
      "   </div>\n",
      "   <h3 class=\"comment-reply-title\" id=\"reply-title\">\n",
      "    دیدگاهتان را بنویسید\n",
      "    <small>\n",
      "     <a href=\"/%d8%aa%d9%82%d9%84%db%8c%d8%af-%d8%aa%d9%81%d9%88%db%8c%d8%b6/#respond\" id=\"cancel-comment-reply-link\" rel=\"nofollow\" style=\"display:none;\">\n",
      "      لغو پاسخ\n",
      "     </a>\n",
      "    </small>\n",
      "   </h3>\n",
      "   <form action=\"https://mrshabanali.com/wp-comments-post.php\" class=\"comment-form\" id=\"commentform\" method=\"post\">\n",
      "    <p class=\"comment-notes\">\n",
      "     <span id=\"email-notes\">\n",
      "      نشانی ایمیل شما منتشر نخواهد شد.\n",
      "     </span>\n",
      "     بخش‌های موردنیاز علامت‌گذاری شده‌اند\n",
      "     <span class=\"required\">\n",
      "      *\n",
      "     </span>\n",
      "    </p>\n",
      "    <p class=\"comment-form-comment\">\n",
      "     <label for=\"comment\">\n",
      "      دیدگاه\n",
      "     </label>\n",
      "     <textarea cols=\"45\" id=\"comment\" maxlength=\"65525\" name=\"comment\" required=\"required\" rows=\"8\"></textarea>\n",
      "    </p>\n",
      "    <p class=\"comment-form-author\">\n",
      "     <label for=\"author\">\n",
      "      نام\n",
      "      <span class=\"required\">\n",
      "       *\n",
      "      </span>\n",
      "     </label>\n",
      "     <input id=\"author\" name=\"author\" size=\"30\" type=\"text\" value=\"\"/>\n",
      "    </p>\n",
      "    <p class=\"comment-form-email\">\n",
      "     <label for=\"email\">\n",
      "      ایمیل شما در متمم:\n",
      "      <span class=\"required\">\n",
      "       *\n",
      "      </span>\n",
      "     </label>\n",
      "     <input id=\"email\" name=\"email\" size=\"30\" type=\"text\" value=\"\"/>\n",
      "    </p>\n",
      "    <p class=\"comment-form-url\">\n",
      "     <label for=\"code\">\n",
      "      کد فعال شما در متمم:\n",
      "     </label>\n",
      "     <input id=\"code\" name=\"code\" size=\"30\" type=\"text\" value=\"\"/>\n",
      "    </p>\n",
      "    <p class=\"form-submit\">\n",
      "     <input class=\"submit\" id=\"submit\" name=\"submit\" type=\"submit\" value=\"فرستادن دیدگاه\"/>\n",
      "     <input id=\"comment_post_ID\" name=\"comment_post_ID\" type=\"hidden\" value=\"58807\"/>\n",
      "     <input id=\"comment_parent\" name=\"comment_parent\" type=\"hidden\" value=\"0\"/>\n",
      "    </p>\n",
      "    <p style=\"display: none;\">\n",
      "     <input id=\"akismet_comment_nonce\" name=\"akismet_comment_nonce\" type=\"hidden\" value=\"1fbe8f102b\"/>\n",
      "    </p>\n",
      "    <script src=\"//cdn.ckeditor.com/4.16.1/standard/ckeditor.js\">\n",
      "    </script>\n",
      "    <script>\n",
      "     CKEDITOR.replace(\"comment\", { skin: \"icy_orange,https://mrshabanali.com/wp-content/plugins/ark-wysiwyg-comment-editor/ckeditor/skins/icy_orange/\" });\n",
      "CKEDITOR.config.contentsLangDirection=\"rtl\";\n",
      "CKEDITOR.config.defaultLanguage=\"fa\";\n",
      "CKEDITOR.config.disableNativeSpellChecker=false;\n",
      "CKEDITOR.config.removePlugins=\"scayt,contextmenu\";\n",
      "CKEDITOR.config.contentsCss=\"\";\n",
      "CKEDITOR.config.smiley_columns=8\n",
      "CKEDITOR.config.smiley_images=[];\n",
      "CKEDITOR.config.toolbar=[{name: \"bar1\", items: [\"Undo\",\"Redo\",\"-\", ] }, {name: \"bar2\", items: [\"Bold\",\"Italic\", ] } ,{name: \"bar5\", items: [\"Link\",\"Unlink\",\"Anchor\",\"-\", ] } ,{name: \"bar6\", items: [\"Blockquote\",\"-\",\"Source\" ] } ,{name: \"barfont\", items: [\"JustifyRight\",\"JustifyBlock\" ] }, ];\n",
      "    </script>\n",
      "    <p style=\"display: none;\">\n",
      "     <input id=\"ak_js\" name=\"ak_js\" type=\"hidden\" value=\"157\"/>\n",
      "    </p>\n",
      "   </form>\n",
      "  </div>\n",
      " </div>\n",
      "</div>\n",
      "\n"
     ]
    }
   ],
   "source": [
    "print(content.prettify())"
   ]
  },
  {
   "cell_type": "code",
   "execution_count": 245,
   "id": "ca9a8d1a-443f-4767-b32b-2493d45fc48e",
   "metadata": {},
   "outputs": [],
   "source": [
    "post  = content.find(\"div\", class_=re.compile('^post-'))"
   ]
  },
  {
   "cell_type": "code",
   "execution_count": 217,
   "id": "a166bbf8-4aa4-45d7-b5ed-9e4e7deb2579",
   "metadata": {},
   "outputs": [
    {
     "data": {
      "text/plain": [
       "<div class=\"post-58807 post type-post status-publish format-standard has-post-thumbnail hentry category-1305 tag-1357\" id=\"post-58807\">\n",
       "<h2><a href=\"https://mrshabanali.com/%d8%aa%d9%82%d9%84%db%8c%d8%af-%d8%aa%d9%81%d9%88%db%8c%d8%b6/\" title=\"برای محمود جاوید | دربارهٔ تقلید، تفویض، ابلاغ و اجتهاد\">برای محمود جاوید | دربارهٔ تقلید، تفویض، ابلاغ و اجتهاد</a></h2>\n",
       "<div class=\"post-meta\"> <span class=\"info\"> <span><i aria-hidden=\"true\" class=\"fa fa-history\" style=\"color:#cacaca; font-weight:400;\"></i> ۱۱ اسفند, ۱۴۰۰ </span> <span class=\"category\"><a href=\"https://mrshabanali.com/category/%da%af%d9%81%d8%aa%da%af%d9%88-%d8%a8%d8%a7-%d8%af%d9%88%d8%b3%d8%aa%d8%a7%d9%86/\" rel=\"category tag\">گفتگو با دوستان</a></span> <span class=\"comments\"><a href=\"https://mrshabanali.com/%d8%aa%d9%82%d9%84%db%8c%d8%af-%d8%aa%d9%81%d9%88%db%8c%d8%b6/#respond\">بدون دیدگاه</a></span> </span></div><div class=\"entry\"> <a href=\"https://mrshabanali.com/%d8%aa%d9%82%d9%84%db%8c%d8%af-%d8%aa%d9%81%d9%88%db%8c%d8%b6/\" title=\"برای محمود جاوید | دربارهٔ تقلید، تفویض، ابلاغ و اجتهاد\"> <img alt=\"\" class=\"featured_images wp-post-image\" height=\"200\" sizes=\"(max-width: 200px) 100vw, 200px\" src=\"https://mrshabanali.com/wp-content/uploads/2022/03/delegation.jpg\" srcset=\"https://mrshabanali.com/wp-content/uploads/2022/03/delegation.jpg 200w, https://mrshabanali.com/wp-content/uploads/2022/03/delegation-150x150.jpg 150w, https://mrshabanali.com/wp-content/uploads/2022/03/delegation-144x144.jpg 144w\" width=\"200\"/> </a> <p>محمود جاوید عزیز در زیر گفتگوی ویدئویی من با بچه‌های متمم مطلبی را در قالب کامنت نوشته بود که دوست داشتم چند نکته‌ای را که هنگام خواندن آن کامنت برایم تداعی شد، در قالب پاسخ بنویسم. اما در نهایت با خودم گفتم شاید نوشتن آن‌ها در قالب یک مطلب مستقل مناسب‌تر باشد. بخش‌هایی از کامنت محمود جاوید را در این‌جا می‌آورم: … در قسمت اول گفت‌و‌گو رمز کسب اعتماد مدیرت را «تابع بودن و اجتهاد نکردن» بیان کردی؛ مشکلی که تا جهان بوده رهبران، مدیران و والدین دموکرات با مجموعهٔ همراه خود داشته‌اند. از نمونه‌های مشهور آن هم دوران حکومت علی است که از چالش‌های جدی حکمرانی او اجتهادهای همیشگی یارانش بود. یکی از دغدغه‌های فکری که اغلب همراه من بوده، همین است که کجای کارم  اشکال دارد که نمی‌توانم یاران و همراهان را به […]</p></div></div>"
      ]
     },
     "execution_count": 217,
     "metadata": {},
     "output_type": "execute_result"
    }
   ],
   "source": []
  },
  {
   "cell_type": "code",
   "execution_count": 198,
   "id": "ee64c602-28bb-479f-82ad-38a194ed3bf9",
   "metadata": {},
   "outputs": [],
   "source": [
    "entry = post.find(\"div\", class_=\"entry\")"
   ]
  },
  {
   "cell_type": "code",
   "execution_count": 199,
   "id": "e672792f-00a8-4202-835c-37eccb436f64",
   "metadata": {},
   "outputs": [
    {
     "data": {
      "text/plain": [
       "<div class=\"entry\"> <a href=\"https://mrshabanali.com/%d8%aa%d9%82%d9%84%db%8c%d8%af-%d8%aa%d9%81%d9%88%db%8c%d8%b6/\" title=\"برای محمود جاوید | دربارهٔ تقلید، تفویض، ابلاغ و اجتهاد\"> <img alt=\"\" class=\"featured_images wp-post-image\" height=\"200\" sizes=\"(max-width: 200px) 100vw, 200px\" src=\"https://mrshabanali.com/wp-content/uploads/2022/03/delegation.jpg\" srcset=\"https://mrshabanali.com/wp-content/uploads/2022/03/delegation.jpg 200w, https://mrshabanali.com/wp-content/uploads/2022/03/delegation-150x150.jpg 150w, https://mrshabanali.com/wp-content/uploads/2022/03/delegation-144x144.jpg 144w\" width=\"200\"/> </a> <p>محمود جاوید عزیز در زیر گفتگوی ویدئویی من با بچه‌های متمم مطلبی را در قالب کامنت نوشته بود که دوست داشتم چند نکته‌ای را که هنگام خواندن آن کامنت برایم تداعی شد، در قالب پاسخ بنویسم. اما در نهایت با خودم گفتم شاید نوشتن آن‌ها در قالب یک مطلب مستقل مناسب‌تر باشد. بخش‌هایی از کامنت محمود جاوید را در این‌جا می‌آورم: … در قسمت اول گفت‌و‌گو رمز کسب اعتماد مدیرت را «تابع بودن و اجتهاد نکردن» بیان کردی؛ مشکلی که تا جهان بوده رهبران، مدیران و والدین دموکرات با مجموعهٔ همراه خود داشته‌اند. از نمونه‌های مشهور آن هم دوران حکومت علی است که از چالش‌های جدی حکمرانی او اجتهادهای همیشگی یارانش بود. یکی از دغدغه‌های فکری که اغلب همراه من بوده، همین است که کجای کارم  اشکال دارد که نمی‌توانم یاران و همراهان را به […]</p></div>"
      ]
     },
     "execution_count": 199,
     "metadata": {},
     "output_type": "execute_result"
    }
   ],
   "source": [
    "entry"
   ]
  },
  {
   "cell_type": "code",
   "execution_count": 185,
   "id": "d2b17e3b-9a90-4598-943c-52fc79295b5b",
   "metadata": {},
   "outputs": [
    {
     "name": "stdout",
     "output_type": "stream",
     "text": [
      "<div class=\"entry\"> <a href=\"https://mrshabanali.com/%d8%aa%d9%82%d9%84%db%8c%d8%af-%d8%aa%d9%81%d9%88%db%8c%d8%b6/\" title=\"برای محمود جاوید | دربارهٔ تقلید، تفویض، ابلاغ و اجتهاد\"> <img alt=\"\" class=\"featured_images wp-post-image\" height=\"200\" sizes=\"(max-width: 200px) 100vw, 200px\" src=\"https://mrshabanali.com/wp-content/uploads/2022/03/delegation.jpg\" srcset=\"https://mrshabanali.com/wp-content/uploads/2022/03/delegation.jpg 200w, https://mrshabanali.com/wp-content/uploads/2022/03/delegation-150x150.jpg 150w, https://mrshabanali.com/wp-content/uploads/2022/03/delegation-144x144.jpg 144w\" width=\"200\"/> </a> <p>محمود جاوید عزیز در زیر گفتگوی ویدئویی من با بچه‌های متمم مطلبی را در قالب کامنت نوشته بود که دوست داشتم چند نکته‌ای را که هنگام خواندن آن کامنت برایم تداعی شد، در قالب پاسخ بنویسم. اما در نهایت با خودم گفتم شاید نوشتن آن‌ها در قالب یک مطلب مستقل مناسب‌تر باشد. بخش‌هایی از کامنت محمود جاوید را در این‌جا می‌آورم: … در قسمت اول گفت‌و‌گو رمز کسب اعتماد مدیرت را «تابع بودن و اجتهاد نکردن» بیان کردی؛ مشکلی که تا جهان بوده رهبران، مدیران و والدین دموکرات با مجموعهٔ همراه خود داشته‌اند. از نمونه‌های مشهور آن هم دوران حکومت علی است که از چالش‌های جدی حکمرانی او اجتهادهای همیشگی یارانش بود. یکی از دغدغه‌های فکری که اغلب همراه من بوده، همین است که کجای کارم  اشکال دارد که نمی‌توانم یاران و همراهان را به […]</p></div>\n"
     ]
    }
   ],
   "source": [
    "print(entry)"
   ]
  },
  {
   "cell_type": "code",
   "execution_count": 186,
   "id": "be14b3e2-3a62-4cef-bfd1-d3e28a326e80",
   "metadata": {},
   "outputs": [
    {
     "data": {
      "text/plain": [
       "[<p>محمود جاوید عزیز در زیر گفتگوی ویدئویی من با بچه‌های متمم مطلبی را در قالب کامنت نوشته بود که دوست داشتم چند نکته‌ای را که هنگام خواندن آن کامنت برایم تداعی شد، در قالب پاسخ بنویسم. اما در نهایت با خودم گفتم شاید نوشتن آن‌ها در قالب یک مطلب مستقل مناسب‌تر باشد. بخش‌هایی از کامنت محمود جاوید را در این‌جا می‌آورم: … در قسمت اول گفت‌و‌گو رمز کسب اعتماد مدیرت را «تابع بودن و اجتهاد نکردن» بیان کردی؛ مشکلی که تا جهان بوده رهبران، مدیران و والدین دموکرات با مجموعهٔ همراه خود داشته‌اند. از نمونه‌های مشهور آن هم دوران حکومت علی است که از چالش‌های جدی حکمرانی او اجتهادهای همیشگی یارانش بود. یکی از دغدغه‌های فکری که اغلب همراه من بوده، همین است که کجای کارم  اشکال دارد که نمی‌توانم یاران و همراهان را به […]</p>]"
      ]
     },
     "execution_count": 186,
     "metadata": {},
     "output_type": "execute_result"
    }
   ],
   "source": [
    "a"
   ]
  },
  {
   "cell_type": "code",
   "execution_count": 187,
   "id": "f6d4c877-f537-44a2-b4db-80315895737c",
   "metadata": {},
   "outputs": [
    {
     "data": {
      "text/plain": [
       "[<p>محمود جاوید عزیز در زیر گفتگوی ویدئویی من با بچه‌های متمم مطلبی را در قالب کامنت نوشته بود که دوست داشتم چند نکته‌ای را که هنگام خواندن آن کامنت برایم تداعی شد، در قالب پاسخ بنویسم. اما در نهایت با خودم گفتم شاید نوشتن آن‌ها در قالب یک مطلب مستقل مناسب‌تر باشد. بخش‌هایی از کامنت محمود جاوید را در این‌جا می‌آورم: … در قسمت اول گفت‌و‌گو رمز کسب اعتماد مدیرت را «تابع بودن و اجتهاد نکردن» بیان کردی؛ مشکلی که تا جهان بوده رهبران، مدیران و والدین دموکرات با مجموعهٔ همراه خود داشته‌اند. از نمونه‌های مشهور آن هم دوران حکومت علی است که از چالش‌های جدی حکمرانی او اجتهادهای همیشگی یارانش بود. یکی از دغدغه‌های فکری که اغلب همراه من بوده، همین است که کجای کارم  اشکال دارد که نمی‌توانم یاران و همراهان را به […]</p>]"
      ]
     },
     "execution_count": 187,
     "metadata": {},
     "output_type": "execute_result"
    }
   ],
   "source": [
    "texts"
   ]
  },
  {
   "cell_type": "code",
   "execution_count": 188,
   "id": "ef8cd287-c41a-40bb-8b08-e5d6f022f7ce",
   "metadata": {},
   "outputs": [
    {
     "data": {
      "text/plain": [
       "1"
      ]
     },
     "execution_count": 188,
     "metadata": {},
     "output_type": "execute_result"
    }
   ],
   "source": [
    "len(texts)"
   ]
  },
  {
   "cell_type": "code",
   "execution_count": 81,
   "id": "122fcc35-03cb-4b37-8b96-2e61c37f0f13",
   "metadata": {},
   "outputs": [
    {
     "data": {
      "text/plain": [
       "<p>محمود جاوید عزیز در زیر گفتگوی ویدئویی من با بچه‌های متمم مطلبی را در قالب کامنت نوشته بود که دوست داشتم چند نکته‌ای را که هنگام خواندن آن کامنت برایم تداعی شد، در قالب پاسخ بنویسم. اما در نهایت با خودم گفتم شاید نوشتن آن‌ها در قالب یک مطلب مستقل مناسب‌تر باشد. بخش‌هایی از کامنت محمود جاوید را در این‌جا می‌آورم: … در قسمت اول گفت‌و‌گو رمز کسب اعتماد مدیرت را «تابع بودن و اجتهاد نکردن» بیان کردی؛ مشکلی که تا جهان بوده رهبران، مدیران و والدین دموکرات با مجموعهٔ همراه خود داشته‌اند. از نمونه‌های مشهور آن هم دوران حکومت علی است که از چالش‌های جدی حکمرانی او اجتهادهای همیشگی یارانش بود. یکی از دغدغه‌های فکری که اغلب همراه من بوده، همین است که کجای کارم  اشکال دارد که نمی‌توانم یاران و همراهان را به […]</p>"
      ]
     },
     "execution_count": 81,
     "metadata": {},
     "output_type": "execute_result"
    }
   ],
   "source": [
    "first"
   ]
  },
  {
   "cell_type": "code",
   "execution_count": 78,
   "id": "ee1724f9-6b90-4906-8723-9ae9e0b3137c",
   "metadata": {},
   "outputs": [
    {
     "data": {
      "text/plain": [
       "'محمود جاوید عزیز در زیر گفتگوی ویدئویی من با بچه\\u200cهای متمم مطلبی را در قالب کامنت نوشته بود که دوست داشتم چند نکته\\u200cای را که هنگام خواندن آن کامنت برایم تداعی شد، در قالب پاسخ بنویسم. اما در نهایت با خودم گفتم شاید نوشتن آن\\u200cها در قالب یک مطلب مستقل مناسب\\u200cتر باشد. بخش\\u200cهایی از کامنت محمود جاوید را در این\\u200cجا می\\u200cآورم: … در قسمت اول گفت\\u200cو\\u200cگو رمز کسب اعتماد مدیرت را «تابع بودن و اجتهاد نکردن» بیان کردی؛ مشکلی که تا جهان بوده رهبران، مدیران و والدین دموکرات با مجموعهٔ همراه خود داشته\\u200cاند. از نمونه\\u200cهای مشهور آن هم دوران حکومت علی است که از چالش\\u200cهای جدی حکمرانی او اجتهادهای همیشگی یارانش بود. یکی از دغدغه\\u200cهای فکری که اغلب همراه من بوده، همین است که کجای کارم \\xa0اشکال دارد که نمی\\u200cتوانم یاران و همراهان را به […]'"
      ]
     },
     "execution_count": 78,
     "metadata": {},
     "output_type": "execute_result"
    }
   ],
   "source": [
    "s.text"
   ]
  },
  {
   "cell_type": "code",
   "execution_count": 79,
   "id": "70031235-0a0b-4a75-84ef-a9ce07c1ec53",
   "metadata": {},
   "outputs": [],
   "source": [
    "with open('readme.txt', 'w') as f:\n",
    "    f.write(s.text)\n"
   ]
  },
  {
   "cell_type": "code",
   "execution_count": 66,
   "id": "51d6829d-78cf-4824-849e-55438b6a4725",
   "metadata": {},
   "outputs": [
    {
     "ename": "UnicodeEncodeError",
     "evalue": "'latin-1' codec can't encode character '\\u2026' in position 51: ordinal not in range(256)",
     "output_type": "error",
     "traceback": [
      "\u001b[0;31m---------------------------------------------------------------------------\u001b[0m",
      "\u001b[0;31mUnicodeEncodeError\u001b[0m                        Traceback (most recent call last)",
      "Input \u001b[0;32mIn [66]\u001b[0m, in \u001b[0;36m<cell line: 1>\u001b[0;34m()\u001b[0m\n\u001b[0;32m----> 1\u001b[0m \u001b[43mpdf\u001b[49m\u001b[38;5;241;43m.\u001b[39;49m\u001b[43moutput\u001b[49m\u001b[43m(\u001b[49m\u001b[38;5;124;43m\"\u001b[39;49m\u001b[38;5;124;43mswqwq.pdf\u001b[39;49m\u001b[38;5;124;43m\"\u001b[39;49m\u001b[43m)\u001b[49m\n",
      "File \u001b[0;32m~/anaconda3/envs/scrap/lib/python3.9/site-packages/fpdf/fpdf.py:1065\u001b[0m, in \u001b[0;36mFPDF.output\u001b[0;34m(self, name, dest)\u001b[0m\n\u001b[1;32m   1063\u001b[0m \u001b[38;5;66;03m#Finish document if necessary\u001b[39;00m\n\u001b[1;32m   1064\u001b[0m \u001b[38;5;28;01mif\u001b[39;00m(\u001b[38;5;28mself\u001b[39m\u001b[38;5;241m.\u001b[39mstate\u001b[38;5;241m<\u001b[39m\u001b[38;5;241m3\u001b[39m):\n\u001b[0;32m-> 1065\u001b[0m     \u001b[38;5;28;43mself\u001b[39;49m\u001b[38;5;241;43m.\u001b[39;49m\u001b[43mclose\u001b[49m\u001b[43m(\u001b[49m\u001b[43m)\u001b[49m\n\u001b[1;32m   1066\u001b[0m dest\u001b[38;5;241m=\u001b[39mdest\u001b[38;5;241m.\u001b[39mupper()\n\u001b[1;32m   1067\u001b[0m \u001b[38;5;28;01mif\u001b[39;00m(dest\u001b[38;5;241m==\u001b[39m\u001b[38;5;124m'\u001b[39m\u001b[38;5;124m'\u001b[39m):\n",
      "File \u001b[0;32m~/anaconda3/envs/scrap/lib/python3.9/site-packages/fpdf/fpdf.py:246\u001b[0m, in \u001b[0;36mFPDF.close\u001b[0;34m(self)\u001b[0m\n\u001b[1;32m    244\u001b[0m \u001b[38;5;28mself\u001b[39m\u001b[38;5;241m.\u001b[39m_endpage()\n\u001b[1;32m    245\u001b[0m \u001b[38;5;66;03m#close document\u001b[39;00m\n\u001b[0;32m--> 246\u001b[0m \u001b[38;5;28;43mself\u001b[39;49m\u001b[38;5;241;43m.\u001b[39;49m\u001b[43m_enddoc\u001b[49m\u001b[43m(\u001b[49m\u001b[43m)\u001b[49m\n",
      "File \u001b[0;32m~/anaconda3/envs/scrap/lib/python3.9/site-packages/fpdf/fpdf.py:1636\u001b[0m, in \u001b[0;36mFPDF._enddoc\u001b[0;34m(self)\u001b[0m\n\u001b[1;32m   1634\u001b[0m \u001b[38;5;28;01mdef\u001b[39;00m \u001b[38;5;21m_enddoc\u001b[39m(\u001b[38;5;28mself\u001b[39m):\n\u001b[1;32m   1635\u001b[0m     \u001b[38;5;28mself\u001b[39m\u001b[38;5;241m.\u001b[39m_putheader()\n\u001b[0;32m-> 1636\u001b[0m     \u001b[38;5;28;43mself\u001b[39;49m\u001b[38;5;241;43m.\u001b[39;49m\u001b[43m_putpages\u001b[49m\u001b[43m(\u001b[49m\u001b[43m)\u001b[49m\n\u001b[1;32m   1637\u001b[0m     \u001b[38;5;28mself\u001b[39m\u001b[38;5;241m.\u001b[39m_putresources()\n\u001b[1;32m   1638\u001b[0m     \u001b[38;5;66;03m#Info\u001b[39;00m\n",
      "File \u001b[0;32m~/anaconda3/envs/scrap/lib/python3.9/site-packages/fpdf/fpdf.py:1170\u001b[0m, in \u001b[0;36mFPDF._putpages\u001b[0;34m(self)\u001b[0m\n\u001b[1;32m   1167\u001b[0m \u001b[38;5;66;03m#Page content\u001b[39;00m\n\u001b[1;32m   1168\u001b[0m \u001b[38;5;28;01mif\u001b[39;00m \u001b[38;5;28mself\u001b[39m\u001b[38;5;241m.\u001b[39mcompress:\n\u001b[1;32m   1169\u001b[0m     \u001b[38;5;66;03m# manage binary data as latin1 until PEP461 or similar is implemented\u001b[39;00m\n\u001b[0;32m-> 1170\u001b[0m     p \u001b[38;5;241m=\u001b[39m \u001b[38;5;28;43mself\u001b[39;49m\u001b[38;5;241;43m.\u001b[39;49m\u001b[43mpages\u001b[49m\u001b[43m[\u001b[49m\u001b[43mn\u001b[49m\u001b[43m]\u001b[49m\u001b[38;5;241;43m.\u001b[39;49m\u001b[43mencode\u001b[49m\u001b[43m(\u001b[49m\u001b[38;5;124;43m\"\u001b[39;49m\u001b[38;5;124;43mlatin1\u001b[39;49m\u001b[38;5;124;43m\"\u001b[39;49m\u001b[43m)\u001b[49m \u001b[38;5;28;01mif\u001b[39;00m PY3K \u001b[38;5;28;01melse\u001b[39;00m \u001b[38;5;28mself\u001b[39m\u001b[38;5;241m.\u001b[39mpages[n] \n\u001b[1;32m   1171\u001b[0m     p \u001b[38;5;241m=\u001b[39m zlib\u001b[38;5;241m.\u001b[39mcompress(p)\n\u001b[1;32m   1172\u001b[0m \u001b[38;5;28;01melse\u001b[39;00m:\n",
      "\u001b[0;31mUnicodeEncodeError\u001b[0m: 'latin-1' codec can't encode character '\\u2026' in position 51: ordinal not in range(256)"
     ]
    }
   ],
   "source": [
    "pdf.output(\"swqwq.pdf\")"
   ]
  },
  {
   "cell_type": "code",
   "execution_count": null,
   "id": "39dbed8c-f626-4d7d-a6c2-f477b7366ec8",
   "metadata": {},
   "outputs": [],
   "source": [
    "s.text"
   ]
  },
  {
   "cell_type": "code",
   "execution_count": null,
   "id": "8eb31e31-2033-405b-ac91-e258b9a92e96",
   "metadata": {},
   "outputs": [],
   "source": []
  },
  {
   "cell_type": "code",
   "execution_count": null,
   "id": "b1f4525c-fabd-4947-a67c-3dcaaaa47d1d",
   "metadata": {},
   "outputs": [],
   "source": []
  }
 ],
 "metadata": {
  "kernelspec": {
   "display_name": "Python 3 (ipykernel)",
   "language": "python",
   "name": "python3"
  },
  "language_info": {
   "codemirror_mode": {
    "name": "ipython",
    "version": 3
   },
   "file_extension": ".py",
   "mimetype": "text/x-python",
   "name": "python",
   "nbconvert_exporter": "python",
   "pygments_lexer": "ipython3",
   "version": "3.9.7"
  }
 },
 "nbformat": 4,
 "nbformat_minor": 5
}
