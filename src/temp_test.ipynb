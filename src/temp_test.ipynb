{
 "cells": [
  {
   "cell_type": "markdown",
   "id": "51a8f3fb",
   "metadata": {
    "tags": []
   },
   "source": [
    "## import modules"
   ]
  },
  {
   "cell_type": "code",
   "execution_count": 1,
   "id": "c436a735",
   "metadata": {},
   "outputs": [],
   "source": [
    "import requests as req\n",
    "import re\n",
    "from bs4 import BeautifulSoup"
   ]
  },
  {
   "cell_type": "markdown",
   "id": "7ac75e41",
   "metadata": {
    "tags": []
   },
   "source": [
    "## read url with request"
   ]
  },
  {
   "cell_type": "code",
   "execution_count": 2,
   "id": "da8b3f83",
   "metadata": {},
   "outputs": [],
   "source": [
    "url = 'https://mrshabanali.com/'"
   ]
  },
  {
   "cell_type": "code",
   "execution_count": 3,
   "id": "c74a07c3",
   "metadata": {},
   "outputs": [],
   "source": [
    "page = req.get(url).text"
   ]
  },
  {
   "cell_type": "markdown",
   "id": "e664bb0c",
   "metadata": {
    "tags": []
   },
   "source": [
    "## visualize page data with beautiful soup"
   ]
  },
  {
   "cell_type": "code",
   "execution_count": 4,
   "id": "ba2fbdf1",
   "metadata": {},
   "outputs": [],
   "source": [
    "soup = BeautifulSoup(page, \"html.parser\")"
   ]
  },
  {
   "cell_type": "code",
   "execution_count": 5,
   "id": "ef06645b",
   "metadata": {},
   "outputs": [
    {
     "name": "stdout",
     "output_type": "stream",
     "text": [
      "<title>روزنوشته‌های محمدرضا شعبانعلی | روزنوشته های محمدرضا شعبانعلی درباره‌ی روزمرگی‌ها، مسائل اجتماعی، فرهنگ، مدیریت و توسعه فردی</title>\n"
     ]
    }
   ],
   "source": [
    "print(soup.title)"
   ]
  },
  {
   "cell_type": "code",
   "execution_count": 6,
   "id": "18f9d949",
   "metadata": {},
   "outputs": [],
   "source": [
    "# print(soup.prettify())"
   ]
  },
  {
   "cell_type": "markdown",
   "id": "efbe11b3",
   "metadata": {
    "tags": []
   },
   "source": [
    "## export posts_list according to the posts_list class and make a list of each post metadata"
   ]
  },
  {
   "cell_type": "code",
   "execution_count": 7,
   "id": "538f2da9",
   "metadata": {},
   "outputs": [],
   "source": [
    "post_classes = soup.find(\"div\", class_=\"posts-list\")"
   ]
  },
  {
   "cell_type": "code",
   "execution_count": 8,
   "id": "afec7ea5",
   "metadata": {},
   "outputs": [],
   "source": [
    "posts = post_classes.findAll('div', id=re.compile('^post-'))"
   ]
  },
  {
   "cell_type": "markdown",
   "id": "4168a13a",
   "metadata": {
    "tags": []
   },
   "source": [
    "## gives post's link , date, title in page 1 and store them in data dictionary"
   ]
  },
  {
   "cell_type": "code",
   "execution_count": 9,
   "id": "8cb903d2",
   "metadata": {},
   "outputs": [],
   "source": [
    "data = {}\n",
    "i=1\n",
    "for link_data in posts:\n",
    "    metadata = link_data.find(class_=\"post-meta\")\n",
    "    title = link_data.h2.a.text\n",
    "    date = metadata.find(\"span\").span.text\n",
    "    link = link_data.find('a').get('href')\n",
    "    data[i] = {'title':title, 'date':date, 'link':link}\n",
    "    i+=1"
   ]
  },
  {
   "cell_type": "code",
   "execution_count": 10,
   "id": "ae5f0349",
   "metadata": {},
   "outputs": [
    {
     "data": {
      "text/plain": [
       "{1: {'title': 'پیام\\u200cها و پیامک\\u200cها | ششمین نمونه',\n",
       "  'date': '\\xa0۲۷ اسفند, ۱۴۰۰\\xa0',\n",
       "  'link': 'https://mrshabanali.com/%d9%be%db%8c%d8%a7%d9%85%e2%80%8c%d9%87%d8%a7-%d9%be%db%8c%d8%a7%d9%85%da%a9-%d8%b4%d8%b4/'},\n",
       " 2: {'title': 'فهرست اسامی و توضیحات و اشارات در گفتگو با دوستان متممی | تا بخش سوم',\n",
       "  'date': '\\xa0۱۱ اسفند, ۱۴۰۰\\xa0',\n",
       "  'link': 'https://mrshabanali.com/%d9%81%d9%87%d8%b1%d8%b3%d8%aa-%d9%86%d8%a7%d9%85%d9%87%d8%a7/'},\n",
       " 3: {'title': 'برای محمود جاوید | دربارهٔ تقلید، تفویض، ابلاغ و اجتهاد',\n",
       "  'date': '\\xa0۱۱ اسفند, ۱۴۰۰\\xa0',\n",
       "  'link': 'https://mrshabanali.com/%d8%aa%d9%82%d9%84%db%8c%d8%af-%d8%aa%d9%81%d9%88%db%8c%d8%b6/'},\n",
       " 4: {'title': 'پیام\\u200cها و پیامک\\u200cها | پنجمین نمونه',\n",
       "  'date': '\\xa0۲۱ بهمن, ۱۴۰۰\\xa0',\n",
       "  'link': 'https://mrshabanali.com/%d9%be%db%8c%d8%a7%d9%85-%d9%be%db%8c%d8%a7%d9%85%da%a9-%d9%be%d9%86%d8%ac/'},\n",
       " 5: {'title': 'چرا در گفتگو با محمدرضا شعبانعلی هیچ خانمی نبود؟',\n",
       "  'date': '\\xa0۱۳ بهمن, ۱۴۰۰\\xa0',\n",
       "  'link': 'https://mrshabanali.com/women-in-interview/'},\n",
       " 6: {'title': 'دانلود فایل ویدئویی | گفتگوی من (محمدرضا شعبانعلی) و دوستان',\n",
       "  'date': '\\xa0۲ بهمن, ۱۴۰۰\\xa0',\n",
       "  'link': 'https://mrshabanali.com/interview/'},\n",
       " 7: {'title': 'اطلاع رسانی یک پادکست | من (محمدرضا شعبانعلی) و بچه\\u200cها',\n",
       "  'date': '\\xa0۳۰ دی, ۱۴۰۰\\xa0',\n",
       "  'link': 'https://mrshabanali.com/%d9%be%d8%a7%d8%af%da%a9%d8%b3%d8%aa-%d8%b4%d8%b9%d8%a8%d8%a7%d9%86%d8%b9%d9%84%db%8c/'},\n",
       " 8: {'title': 'مقدمه\\u200cای بر مقدمهٔ کتاب چرا ملتها شکست می\\u200cخورند؟',\n",
       "  'date': '\\xa0۱۶ دی, ۱۴۰۰\\xa0',\n",
       "  'link': 'https://mrshabanali.com/%da%a9%d8%aa%d8%a7%d8%a8-%da%86%d8%b1%d8%a7-%d9%85%d9%84%d8%aa%d9%87%d8%a7-%d8%b4%da%a9%d8%b3%d8%aa-%d9%85%db%8c%d8%ae%d9%88%d8%b1%d9%86%d8%af/'},\n",
       " 9: {'title': 'پیام\\u200cها و پیامک\\u200cها | چهارمین نمونه',\n",
       "  'date': '\\xa0۱۰ دی, ۱۴۰۰\\xa0',\n",
       "  'link': 'https://mrshabanali.com/%d9%be%db%8c%d8%a7%d9%85-%d9%be%db%8c%d8%a7%d9%85%da%a9-%da%86%d9%87%d8%a7%d8%b1/'},\n",
       " 10: {'title': 'لحظه نگار | چند عکس پراکنده',\n",
       "  'date': '\\xa0۱۹ آذر, ۱۴۰۰\\xa0',\n",
       "  'link': 'https://mrshabanali.com/%d9%84%d8%ad%d8%b8%d9%87-%d9%86%da%af%d8%a7%d8%b1-%da%86%d9%86%d8%af-%d8%b9%da%a9%d8%b3-%d9%be%d8%b1%d8%a7%da%a9%d9%86%d8%af%d9%87/'}}"
      ]
     },
     "execution_count": 10,
     "metadata": {},
     "output_type": "execute_result"
    }
   ],
   "source": [
    "data"
   ]
  },
  {
   "cell_type": "markdown",
   "id": "f5ddbfa7",
   "metadata": {},
   "source": [
    "## scrap first post for test"
   ]
  },
  {
   "cell_type": "code",
   "execution_count": 59,
   "id": "a59c708b",
   "metadata": {},
   "outputs": [],
   "source": [
    "d =data[1]"
   ]
  },
  {
   "cell_type": "code",
   "execution_count": 60,
   "id": "14291c26",
   "metadata": {},
   "outputs": [],
   "source": [
    "url1 = d['link']"
   ]
  },
  {
   "cell_type": "code",
   "execution_count": 62,
   "id": "a335f66c",
   "metadata": {},
   "outputs": [],
   "source": [
    "page1 = req.get(url1).text"
   ]
  },
  {
   "cell_type": "code",
   "execution_count": 63,
   "id": "1cd40eba",
   "metadata": {},
   "outputs": [],
   "source": [
    "soup1 = BeautifulSoup(page1, \"html.parser\")"
   ]
  },
  {
   "cell_type": "code",
   "execution_count": 64,
   "id": "e47840c4",
   "metadata": {},
   "outputs": [],
   "source": [
    "content = soup1.find(\"div\",id=\"content\")\n",
    "# print(wrapper.prettify())\n",
    "# [print(f\"{str(tag.name)}+'\\n\\n'\") for tag in wrapper.find_all()]"
   ]
  },
  {
   "cell_type": "code",
   "execution_count": 65,
   "id": "4c1d02bc",
   "metadata": {},
   "outputs": [],
   "source": [
    "# post_text = wrapper.find()"
   ]
  },
  {
   "cell_type": "code",
   "execution_count": 66,
   "id": "fefdc102",
   "metadata": {},
   "outputs": [],
   "source": [
    "post_text  = content.find(\"div\", class_=\"entry\")"
   ]
  },
  {
   "cell_type": "code",
   "execution_count": 67,
   "id": "cba842b2",
   "metadata": {},
   "outputs": [],
   "source": [
    "tmp = post_text.find_all(\"p\")"
   ]
  },
  {
   "cell_type": "code",
   "execution_count": 68,
   "id": "dc44ecbb",
   "metadata": {},
   "outputs": [
    {
     "data": {
      "text/plain": [
       "'اما فعلاً صرفاً با هدف این\\u200cکه این\\u200cجا آپدیت بشه و منم بتونم به کارهای دیگه از جمله ضبط فایل صوتی «حرف\\u200cهای پیتر دراکر برای مدیران و کارآفرینان امروز – برسم، فعلاً چند تا پیام و پیامک رو از لابه\\u200cلای مکالمه\\u200cهایی که با دوستانم داشتم انتخاب می\\u200cکنم و اینجا می\\u200cذارم.'"
      ]
     },
     "execution_count": 68,
     "metadata": {},
     "output_type": "execute_result"
    }
   ],
   "source": [
    "tmp[1].text"
   ]
  },
  {
   "cell_type": "code",
   "execution_count": 69,
   "id": "fa82225d",
   "metadata": {},
   "outputs": [
    {
     "name": "stdout",
     "output_type": "stream",
     "text": [
      "Requirement already satisfied: hazm in /home/saeed/anaconda3/envs/scrap/lib/python3.9/site-packages (0.7.0)\n",
      "Requirement already satisfied: libwapiti>=0.2.1 in /home/saeed/anaconda3/envs/scrap/lib/python3.9/site-packages (from hazm) (0.2.1)\n",
      "Requirement already satisfied: nltk==3.3 in /home/saeed/anaconda3/envs/scrap/lib/python3.9/site-packages (from hazm) (3.3)\n",
      "Requirement already satisfied: six in /home/saeed/anaconda3/envs/scrap/lib/python3.9/site-packages (from nltk==3.3->hazm) (1.16.0)\n"
     ]
    }
   ],
   "source": [
    "! pip install hazm"
   ]
  },
  {
   "cell_type": "code",
   "execution_count": 70,
   "id": "4bdd5264",
   "metadata": {},
   "outputs": [],
   "source": [
    "from hazm import *"
   ]
  },
  {
   "cell_type": "code",
   "execution_count": 71,
   "id": "72c2d1db",
   "metadata": {},
   "outputs": [],
   "source": [
    "normalizer = Normalizer()\n",
    "with open('saeed.text','w') as f :\n",
    "    for word in tmp :\n",
    "        t = normalizer.normalize(word.text)\n",
    "        f.write(t+'\\n')"
   ]
  },
  {
   "cell_type": "code",
   "execution_count": 72,
   "id": "f1831211",
   "metadata": {},
   "outputs": [
    {
     "name": "stdout",
     "output_type": "stream",
     "text": [
      "Requirement already satisfied: python-docx in /home/saeed/anaconda3/envs/scrap/lib/python3.9/site-packages (0.8.11)\n",
      "Requirement already satisfied: lxml>=2.3.2 in /home/saeed/anaconda3/envs/scrap/lib/python3.9/site-packages (from python-docx) (4.8.0)\n"
     ]
    }
   ],
   "source": [
    "! pip install python-docx"
   ]
  },
  {
   "cell_type": "code",
   "execution_count": 73,
   "id": "44402099-87d5-4d06-b76a-1bc963a8d759",
   "metadata": {},
   "outputs": [],
   "source": [
    "from docx import Document\n",
    "document = Document()\n",
    "for word in tmp :\n",
    "        t = normalizer.normalize(word.text)\n",
    "        paragraph = document.add_paragraph(t+'\\n')\n",
    "        paragraph.alignment = 2# for left, 1 for center, 2 right, 3 justify ....\n",
    "document.save('./post_1.docx')"
   ]
  },
  {
   "cell_type": "markdown",
   "id": "f7e72834-bdc1-4055-a9e6-6d71c2ae56a0",
   "metadata": {},
   "source": [
    "done !"
   ]
  },
  {
   "cell_type": "code",
   "execution_count": null,
   "id": "eaa61de4-9c3c-4be7-b520-28497c7fd575",
   "metadata": {},
   "outputs": [],
   "source": []
  }
 ],
 "metadata": {
  "kernelspec": {
   "display_name": "Python 3 (ipykernel)",
   "language": "python",
   "name": "python3"
  },
  "language_info": {
   "codemirror_mode": {
    "name": "ipython",
    "version": 3
   },
   "file_extension": ".py",
   "mimetype": "text/x-python",
   "name": "python",
   "nbconvert_exporter": "python",
   "pygments_lexer": "ipython3",
   "version": "3.9.7"
  }
 },
 "nbformat": 4,
 "nbformat_minor": 5
}
